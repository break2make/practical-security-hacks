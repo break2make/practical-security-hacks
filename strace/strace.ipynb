{
 "metadata": {
  "language_info": {
   "codemirror_mode": {
    "name": "ipython",
    "version": 3
   },
   "file_extension": ".py",
   "mimetype": "text/x-python",
   "name": "python",
   "nbconvert_exporter": "python",
   "pygments_lexer": "ipython3",
   "version": "3.6.9-final"
  },
  "orig_nbformat": 2,
  "kernelspec": {
   "name": "python3",
   "display_name": "Python 3"
  }
 },
 "nbformat": 4,
 "nbformat_minor": 2,
 "cells": [
  {
   "cell_type": "markdown",
   "metadata": {},
   "source": [
    "### Compile the program `add_two_inst.c`:"
   ]
  },
  {
   "cell_type": "code",
   "execution_count": null,
   "metadata": {
    "tags": []
   },
   "outputs": [],
   "source": [
    "!gcc add_two_ints.c -o a.out\n",
    "!ls"
   ]
  },
  {
   "cell_type": "markdown",
   "metadata": {},
   "source": [
    "### `strace` to trace the system calls in an exectable"
   ]
  },
  {
   "cell_type": "code",
   "execution_count": null,
   "metadata": {
    "tags": []
   },
   "outputs": [],
   "source": [
    "!strace ./a.out"
   ]
  },
  {
   "cell_type": "code",
   "execution_count": null,
   "metadata": {
    "tags": []
   },
   "outputs": [],
   "source": [
    "!strace ls"
   ]
  },
  {
   "cell_type": "markdown",
   "metadata": {},
   "source": [
    "### `strace` to trace the system calls of a process\n",
    "Get the process ID (e.g. using ps command) and then use the ID in strace command with option -p. You might need to use `sudo`."
   ]
  },
  {
   "cell_type": "code",
   "execution_count": null,
   "metadata": {
    "tags": []
   },
   "outputs": [],
   "source": [
    "!strace -p 24820"
   ]
  },
  {
   "cell_type": "markdown",
   "metadata": {},
   "source": [
    "### `strace` with `-o` option: write the output to a file."
   ]
  },
  {
   "cell_type": "code",
   "execution_count": null,
   "metadata": {
    "tags": []
   },
   "outputs": [],
   "source": [
    "!strace -o output.txt ./a.out\n",
    "!cat output.txt"
   ]
  },
  {
   "cell_type": "markdown",
   "metadata": {},
   "source": [
    "### `strace` with `-t`, `T` and `-r` options\n",
    "- `-t` option outputs wall-clock time of individual call. \n",
    "- '-r' option output relative timestamp of each call\n",
    "- `-T` option output time spent on system calls"
   ]
  },
  {
   "cell_type": "code",
   "execution_count": null,
   "metadata": {
    "tags": []
   },
   "outputs": [],
   "source": [
    "!strace -t ./a.out "
   ]
  },
  {
   "cell_type": "code",
   "execution_count": null,
   "metadata": {
    "tags": []
   },
   "outputs": [],
   "source": [
    "!strace -r ./a.out "
   ]
  },
  {
   "cell_type": "code",
   "execution_count": 58,
   "metadata": {
    "tags": []
   },
   "outputs": [
    {
     "output_type": "stream",
     "name": "stdout",
     "text": "execve(\"./a.out\", [\"./a.out\"], 0x7ffe074d0738 /* 95 vars */) = 0 <0.000227>\nbrk(NULL)                               = 0x55cea755f000 <0.000007>\naccess(\"/etc/ld.so.nohwcap\", F_OK)      = -1 ENOENT (No such file or directory) <0.000019>\naccess(\"/etc/ld.so.preload\", R_OK)      = -1 ENOENT (No such file or directory) <0.000009>\nopenat(AT_FDCWD, \"/etc/ld.so.cache\", O_RDONLY|O_CLOEXEC) = 3 <0.000017>\nfstat(3, {st_mode=S_IFREG|0644, st_size=84974, ...}) = 0 <0.000009>\nmmap(NULL, 84974, PROT_READ, MAP_PRIVATE, 3, 0) = 0x7fbba7881000 <0.000010>\nclose(3)                                = 0 <0.000007>\naccess(\"/etc/ld.so.nohwcap\", F_OK)      = -1 ENOENT (No such file or directory) <0.000009>\nopenat(AT_FDCWD, \"/lib/x86_64-linux-gnu/libc.so.6\", O_RDONLY|O_CLOEXEC) = 3 <0.000013>\nread(3, \"\\177ELF\\2\\1\\1\\3\\0\\0\\0\\0\\0\\0\\0\\0\\3\\0>\\0\\1\\0\\0\\0\\260\\34\\2\\0\\0\\0\\0\\0\"..., 832) = 832 <0.000008>\nfstat(3, {st_mode=S_IFREG|0755, st_size=2030544, ...}) = 0 <0.000008>\nmmap(NULL, 8192, PROT_READ|PROT_WRITE, MAP_PRIVATE|MAP_ANONYMOUS, -1, 0) = 0x7fbba787f000 <0.000009>\nmmap(NULL, 4131552, PROT_READ|PROT_EXEC, MAP_PRIVATE|MAP_DENYWRITE, 3, 0) = 0x7fbba727e000 <0.000014>\nmprotect(0x7fbba7465000, 2097152, PROT_NONE) = 0 <0.000018>\nmmap(0x7fbba7665000, 24576, PROT_READ|PROT_WRITE, MAP_PRIVATE|MAP_FIXED|MAP_DENYWRITE, 3, 0x1e7000) = 0x7fbba7665000 <0.000015>\nmmap(0x7fbba766b000, 15072, PROT_READ|PROT_WRITE, MAP_PRIVATE|MAP_FIXED|MAP_ANONYMOUS, -1, 0) = 0x7fbba766b000 <0.000018>\nclose(3)                                = 0 <0.000008>\narch_prctl(ARCH_SET_FS, 0x7fbba78804c0) = 0 <0.000007>\nmprotect(0x7fbba7665000, 16384, PROT_READ) = 0 <0.000019>\nmprotect(0x55cea634e000, 4096, PROT_READ) = 0 <0.000013>\nmprotect(0x7fbba7896000, 4096, PROT_READ) = 0 <0.000021>\nmunmap(0x7fbba7881000, 84974)           = 0 <0.000031>\nfstat(1, {st_mode=S_IFCHR|0620, st_rdev=makedev(136, 1), ...}) = 0 <0.000011>\nbrk(NULL)                               = 0x55cea755f000 <0.000007>\nbrk(0x55cea7580000)                     = 0x55cea7580000 <0.000009>\nwrite(1, \"Sum of numbers less than 10: 45\", 31Sum of numbers less than 10: 45) = 31 <0.000013>\nexit_group(0)                           = ?\n+++ exited with 0 +++\n"
    }
   ],
   "source": [
    "!strace -T ./a.out "
   ]
  },
  {
   "cell_type": "markdown",
   "metadata": {},
   "source": [
    "### `strace` with -`c`: call statistics"
   ]
  },
  {
   "cell_type": "code",
   "execution_count": null,
   "metadata": {
    "tags": []
   },
   "outputs": [],
   "source": [
    "!strace -c ./a.out"
   ]
  },
  {
   "cell_type": "markdown",
   "metadata": {},
   "source": [
    "### `strace` with `-i`: show instruction pointer\n",
    "This option outputs instruction pointer before each system call."
   ]
  },
  {
   "cell_type": "code",
   "execution_count": 52,
   "metadata": {
    "tags": []
   },
   "outputs": [
    {
     "output_type": "stream",
     "name": "stdout",
     "text": "[00007f0c8ae91e97] execve(\"./a.out\", [\"./a.out\"], 0x7fff8bdcaf58 /* 95 vars */) = 0\n[00007fd5d80a0ef9] brk(NULL)            = 0x560d5c2f4000\n[00007fd5d809482e] access(\"/etc/ld.so.nohwcap\", F_OK) = -1 ENOENT (No such file or directory)\n[00007fd5d80a1e57] access(\"/etc/ld.so.preload\", R_OK) = -1 ENOENT (No such file or directory)\n[00007fd5d80a1d0d] openat(AT_FDCWD, \"/etc/ld.so.cache\", O_RDONLY|O_CLOEXEC) = 3\n[00007fd5d80a1c73] fstat(3, {st_mode=S_IFREG|0644, st_size=84974, ...}) = 0\n[00007fd5d80a1f73] mmap(NULL, 84974, PROT_READ, MAP_PRIVATE, 3, 0) = 0x7fd5d8297000\n[00007fd5d80a1f07] close(3)             = 0\n[00007fd5d809d189] access(\"/etc/ld.so.nohwcap\", F_OK) = -1 ENOENT (No such file or directory)\n[00007fd5d80a1d0d] openat(AT_FDCWD, \"/lib/x86_64-linux-gnu/libc.so.6\", O_RDONLY|O_CLOEXEC) = 3\n[00007fd5d80a1dd4] read(3, \"\\177ELF\\2\\1\\1\\3\\0\\0\\0\\0\\0\\0\\0\\0\\3\\0>\\0\\1\\0\\0\\0\\260\\34\\2\\0\\0\\0\\0\\0\"..., 832) = 832\n[00007fd5d80a1c73] fstat(3, {st_mode=S_IFREG|0755, st_size=2030544, ...}) = 0\n[00007fd5d80a1f73] mmap(NULL, 8192, PROT_READ|PROT_WRITE, MAP_PRIVATE|MAP_ANONYMOUS, -1, 0) = 0x7fd5d8295000\n[00007fd5d80a1f73] mmap(NULL, 4131552, PROT_READ|PROT_EXEC, MAP_PRIVATE|MAP_DENYWRITE, 3, 0) = 0x7fd5d7c94000\n[00007fd5d80a2027] mprotect(0x7fd5d7e7b000, 2097152, PROT_NONE) = 0\n[00007fd5d80a1f73] mmap(0x7fd5d807b000, 24576, PROT_READ|PROT_WRITE, MAP_PRIVATE|MAP_FIXED|MAP_DENYWRITE, 3, 0x1e7000) = 0x7fd5d807b000\n[00007fd5d80a1f73] mmap(0x7fd5d8081000, 15072, PROT_READ|PROT_WRITE, MAP_PRIVATE|MAP_FIXED|MAP_ANONYMOUS, -1, 0) = 0x7fd5d8081000\n[00007fd5d80a1f07] close(3)             = 0\n[00007fd5d8086024] arch_prctl(ARCH_SET_FS, 0x7fd5d82964c0) = 0\n[00007fd5d80a2027] mprotect(0x7fd5d807b000, 16384, PROT_READ) = 0\n[00007fd5d80a2027] mprotect(0x560d5b09f000, 4096, PROT_READ) = 0\n[00007fd5d80a2027] mprotect(0x7fd5d82ac000, 4096, PROT_READ) = 0\n[00007fd5d80a2007] munmap(0x7fd5d8297000, 84974) = 0\n[00007fd5d7da38d3] fstat(1, {st_mode=S_IFCHR|0620, st_rdev=makedev(136, 1), ...}) = 0\n[00007fd5d7daa5b9] brk(NULL)            = 0x560d5c2f4000\n[00007fd5d7daa5b9] brk(0x560d5c315000)  = 0x560d5c315000\n[00007fd5d7da4264] write(1, \"Sum of numbers less than 10: 45\", 31Sum of numbers less than 10: 45) = 31\n[00007fd5d7d78e66] exit_group(0)        = ?\n[????????????????] +++ exited with 0 +++\n"
    }
   ],
   "source": [
    "!strace -i ./a.out"
   ]
  },
  {
   "cell_type": "markdown",
   "metadata": {},
   "source": [
    "### `strace` with `-e`: trace only specific system call\n",
    "Using `-e`, it is possible to trace sepcific set of system calls"
   ]
  },
  {
   "cell_type": "code",
   "execution_count": 55,
   "metadata": {
    "tags": []
   },
   "outputs": [
    {
     "output_type": "stream",
     "name": "stdout",
     "text": "write(1, \"add_two_ints.c\\ta.out  output.txt\"..., 47add_two_ints.c\ta.out  output.txt  strace.ipynb\n) = 47\n+++ exited with 0 +++\n"
    }
   ],
   "source": [
    "!strace  -e trace=write ls"
   ]
  },
  {
   "cell_type": "code",
   "execution_count": 56,
   "metadata": {
    "tags": []
   },
   "outputs": [
    {
     "output_type": "stream",
     "name": "stdout",
     "text": "socket(AF_UNIX, SOCK_STREAM|SOCK_CLOEXEC|SOCK_NONBLOCK, 0) = 3\nconnect(3, {sa_family=AF_UNIX, sun_path=\"/var/run/nscd/socket\"}, 110) = -1 ENOENT (No such file or directory)\nsocket(AF_UNIX, SOCK_STREAM|SOCK_CLOEXEC|SOCK_NONBLOCK, 0) = 3\nconnect(3, {sa_family=AF_UNIX, sun_path=\"/var/run/nscd/socket\"}, 110) = -1 ENOENT (No such file or directory)\nsocket(AF_INET, SOCK_STREAM|SOCK_NONBLOCK, IPPROTO_TCP) = 3\nconnect(3, {sa_family=AF_INET, sin_port=htons(801), sin_addr=inet_addr(\"127.0.0.1\")}, 16) = -1 EINPROGRESS (Operation now in progress)\ngetsockopt(3, SOL_SOCKET, SO_ERROR, [111], [4]) = 0\nnc: connect to 127.0.0.1 port 801 (tcp) failed: Connection refused\n+++ exited with 1 +++\n"
    }
   ],
   "source": [
    "!strace -e trace=network nc -v -n 127.0.0.1 801"
   ]
  },
  {
   "cell_type": "code",
   "execution_count": 57,
   "metadata": {
    "tags": []
   },
   "outputs": [
    {
     "output_type": "stream",
     "name": "stdout",
     "text": "execve(\"/bin/nc\", [\"nc\", \"-v\", \"-n\", \"127.0.0.1\", \"801\"], 0x7ffcd0ca6310 /* 95 vars */) = 0\naccess(\"/etc/ld.so.nohwcap\", F_OK)      = -1 ENOENT (No such file or directory)\naccess(\"/etc/ld.so.preload\", R_OK)      = -1 ENOENT (No such file or directory)\nopenat(AT_FDCWD, \"/etc/ld.so.cache\", O_RDONLY|O_CLOEXEC) = 3\naccess(\"/etc/ld.so.nohwcap\", F_OK)      = -1 ENOENT (No such file or directory)\nopenat(AT_FDCWD, \"/lib/x86_64-linux-gnu/libbsd.so.0\", O_RDONLY|O_CLOEXEC) = 3\naccess(\"/etc/ld.so.nohwcap\", F_OK)      = -1 ENOENT (No such file or directory)\nopenat(AT_FDCWD, \"/lib/x86_64-linux-gnu/libresolv.so.2\", O_RDONLY|O_CLOEXEC) = 3\naccess(\"/etc/ld.so.nohwcap\", F_OK)      = -1 ENOENT (No such file or directory)\nopenat(AT_FDCWD, \"/lib/x86_64-linux-gnu/libc.so.6\", O_RDONLY|O_CLOEXEC) = 3\naccess(\"/etc/ld.so.nohwcap\", F_OK)      = -1 ENOENT (No such file or directory)\nopenat(AT_FDCWD, \"/lib/x86_64-linux-gnu/librt.so.1\", O_RDONLY|O_CLOEXEC) = 3\naccess(\"/etc/ld.so.nohwcap\", F_OK)      = -1 ENOENT (No such file or directory)\nopenat(AT_FDCWD, \"/lib/x86_64-linux-gnu/libpthread.so.0\", O_RDONLY|O_CLOEXEC) = 3\nopenat(AT_FDCWD, \"/etc/nsswitch.conf\", O_RDONLY|O_CLOEXEC) = 3\nopenat(AT_FDCWD, \"/etc/ld.so.cache\", O_RDONLY|O_CLOEXEC) = 3\naccess(\"/etc/ld.so.nohwcap\", F_OK)      = -1 ENOENT (No such file or directory)\nopenat(AT_FDCWD, \"/lib/x86_64-linux-gnu/tls/x86_64/x86_64/libnss_db.so.2\", O_RDONLY|O_CLOEXEC) = -1 ENOENT (No such file or directory)\nstat(\"/lib/x86_64-linux-gnu/tls/x86_64/x86_64\", 0x7ffd8d16be10) = -1 ENOENT (No such file or directory)\nopenat(AT_FDCWD, \"/lib/x86_64-linux-gnu/tls/x86_64/libnss_db.so.2\", O_RDONLY|O_CLOEXEC) = -1 ENOENT (No such file or directory)\nstat(\"/lib/x86_64-linux-gnu/tls/x86_64\", 0x7ffd8d16be10) = -1 ENOENT (No such file or directory)\nopenat(AT_FDCWD, \"/lib/x86_64-linux-gnu/tls/x86_64/libnss_db.so.2\", O_RDONLY|O_CLOEXEC) = -1 ENOENT (No such file or directory)\nstat(\"/lib/x86_64-linux-gnu/tls/x86_64\", 0x7ffd8d16be10) = -1 ENOENT (No such file or directory)\nopenat(AT_FDCWD, \"/lib/x86_64-linux-gnu/tls/libnss_db.so.2\", O_RDONLY|O_CLOEXEC) = -1 ENOENT (No such file or directory)\nstat(\"/lib/x86_64-linux-gnu/tls\", 0x7ffd8d16be10) = -1 ENOENT (No such file or directory)\nopenat(AT_FDCWD, \"/lib/x86_64-linux-gnu/x86_64/x86_64/libnss_db.so.2\", O_RDONLY|O_CLOEXEC) = -1 ENOENT (No such file or directory)\nstat(\"/lib/x86_64-linux-gnu/x86_64/x86_64\", 0x7ffd8d16be10) = -1 ENOENT (No such file or directory)\nopenat(AT_FDCWD, \"/lib/x86_64-linux-gnu/x86_64/libnss_db.so.2\", O_RDONLY|O_CLOEXEC) = -1 ENOENT (No such file or directory)\nstat(\"/lib/x86_64-linux-gnu/x86_64\", 0x7ffd8d16be10) = -1 ENOENT (No such file or directory)\nopenat(AT_FDCWD, \"/lib/x86_64-linux-gnu/x86_64/libnss_db.so.2\", O_RDONLY|O_CLOEXEC) = -1 ENOENT (No such file or directory)\nstat(\"/lib/x86_64-linux-gnu/x86_64\", 0x7ffd8d16be10) = -1 ENOENT (No such file or directory)\nopenat(AT_FDCWD, \"/lib/x86_64-linux-gnu/libnss_db.so.2\", O_RDONLY|O_CLOEXEC) = -1 ENOENT (No such file or directory)\nstat(\"/lib/x86_64-linux-gnu\", {st_mode=S_IFDIR|0755, st_size=16384, ...}) = 0\nopenat(AT_FDCWD, \"/usr/lib/x86_64-linux-gnu/tls/x86_64/x86_64/libnss_db.so.2\", O_RDONLY|O_CLOEXEC) = -1 ENOENT (No such file or directory)\nstat(\"/usr/lib/x86_64-linux-gnu/tls/x86_64/x86_64\", 0x7ffd8d16be10) = -1 ENOENT (No such file or directory)\nopenat(AT_FDCWD, \"/usr/lib/x86_64-linux-gnu/tls/x86_64/libnss_db.so.2\", O_RDONLY|O_CLOEXEC) = -1 ENOENT (No such file or directory)\nstat(\"/usr/lib/x86_64-linux-gnu/tls/x86_64\", 0x7ffd8d16be10) = -1 ENOENT (No such file or directory)\nopenat(AT_FDCWD, \"/usr/lib/x86_64-linux-gnu/tls/x86_64/libnss_db.so.2\", O_RDONLY|O_CLOEXEC) = -1 ENOENT (No such file or directory)\nstat(\"/usr/lib/x86_64-linux-gnu/tls/x86_64\", 0x7ffd8d16be10) = -1 ENOENT (No such file or directory)\nopenat(AT_FDCWD, \"/usr/lib/x86_64-linux-gnu/tls/libnss_db.so.2\", O_RDONLY|O_CLOEXEC) = -1 ENOENT (No such file or directory)\nstat(\"/usr/lib/x86_64-linux-gnu/tls\", 0x7ffd8d16be10) = -1 ENOENT (No such file or directory)\nopenat(AT_FDCWD, \"/usr/lib/x86_64-linux-gnu/x86_64/x86_64/libnss_db.so.2\", O_RDONLY|O_CLOEXEC) = -1 ENOENT (No such file or directory)\nstat(\"/usr/lib/x86_64-linux-gnu/x86_64/x86_64\", 0x7ffd8d16be10) = -1 ENOENT (No such file or directory)\nopenat(AT_FDCWD, \"/usr/lib/x86_64-linux-gnu/x86_64/libnss_db.so.2\", O_RDONLY|O_CLOEXEC) = -1 ENOENT (No such file or directory)\nstat(\"/usr/lib/x86_64-linux-gnu/x86_64\", 0x7ffd8d16be10) = -1 ENOENT (No such file or directory)\nopenat(AT_FDCWD, \"/usr/lib/x86_64-linux-gnu/x86_64/libnss_db.so.2\", O_RDONLY|O_CLOEXEC) = -1 ENOENT (No such file or directory)\nstat(\"/usr/lib/x86_64-linux-gnu/x86_64\", 0x7ffd8d16be10) = -1 ENOENT (No such file or directory)\nopenat(AT_FDCWD, \"/usr/lib/x86_64-linux-gnu/libnss_db.so.2\", O_RDONLY|O_CLOEXEC) = -1 ENOENT (No such file or directory)\nstat(\"/usr/lib/x86_64-linux-gnu\", {st_mode=S_IFDIR|0755, st_size=69632, ...}) = 0\nopenat(AT_FDCWD, \"/lib/tls/x86_64/x86_64/libnss_db.so.2\", O_RDONLY|O_CLOEXEC) = -1 ENOENT (No such file or directory)\nstat(\"/lib/tls/x86_64/x86_64\", 0x7ffd8d16be10) = -1 ENOENT (No such file or directory)\nopenat(AT_FDCWD, \"/lib/tls/x86_64/libnss_db.so.2\", O_RDONLY|O_CLOEXEC) = -1 ENOENT (No such file or directory)\nstat(\"/lib/tls/x86_64\", 0x7ffd8d16be10) = -1 ENOENT (No such file or directory)\nopenat(AT_FDCWD, \"/lib/tls/x86_64/libnss_db.so.2\", O_RDONLY|O_CLOEXEC) = -1 ENOENT (No such file or directory)\nstat(\"/lib/tls/x86_64\", 0x7ffd8d16be10) = -1 ENOENT (No such file or directory)\nopenat(AT_FDCWD, \"/lib/tls/libnss_db.so.2\", O_RDONLY|O_CLOEXEC) = -1 ENOENT (No such file or directory)\nstat(\"/lib/tls\", 0x7ffd8d16be10)        = -1 ENOENT (No such file or directory)\nopenat(AT_FDCWD, \"/lib/x86_64/x86_64/libnss_db.so.2\", O_RDONLY|O_CLOEXEC) = -1 ENOENT (No such file or directory)\nstat(\"/lib/x86_64/x86_64\", 0x7ffd8d16be10) = -1 ENOENT (No such file or directory)\nopenat(AT_FDCWD, \"/lib/x86_64/libnss_db.so.2\", O_RDONLY|O_CLOEXEC) = -1 ENOENT (No such file or directory)\nstat(\"/lib/x86_64\", 0x7ffd8d16be10)     = -1 ENOENT (No such file or directory)\nopenat(AT_FDCWD, \"/lib/x86_64/libnss_db.so.2\", O_RDONLY|O_CLOEXEC) = -1 ENOENT (No such file or directory)\nstat(\"/lib/x86_64\", 0x7ffd8d16be10)     = -1 ENOENT (No such file or directory)\nopenat(AT_FDCWD, \"/lib/libnss_db.so.2\", O_RDONLY|O_CLOEXEC) = -1 ENOENT (No such file or directory)\nstat(\"/lib\", {st_mode=S_IFDIR|0755, st_size=4096, ...}) = 0\nopenat(AT_FDCWD, \"/usr/lib/tls/x86_64/x86_64/libnss_db.so.2\", O_RDONLY|O_CLOEXEC) = -1 ENOENT (No such file or directory)\nstat(\"/usr/lib/tls/x86_64/x86_64\", 0x7ffd8d16be10) = -1 ENOENT (No such file or directory)\nopenat(AT_FDCWD, \"/usr/lib/tls/x86_64/libnss_db.so.2\", O_RDONLY|O_CLOEXEC) = -1 ENOENT (No such file or directory)\nstat(\"/usr/lib/tls/x86_64\", 0x7ffd8d16be10) = -1 ENOENT (No such file or directory)\nopenat(AT_FDCWD, \"/usr/lib/tls/x86_64/libnss_db.so.2\", O_RDONLY|O_CLOEXEC) = -1 ENOENT (No such file or directory)\nstat(\"/usr/lib/tls/x86_64\", 0x7ffd8d16be10) = -1 ENOENT (No such file or directory)\nopenat(AT_FDCWD, \"/usr/lib/tls/libnss_db.so.2\", O_RDONLY|O_CLOEXEC) = -1 ENOENT (No such file or directory)\nstat(\"/usr/lib/tls\", 0x7ffd8d16be10)    = -1 ENOENT (No such file or directory)\nopenat(AT_FDCWD, \"/usr/lib/x86_64/x86_64/libnss_db.so.2\", O_RDONLY|O_CLOEXEC) = -1 ENOENT (No such file or directory)\nstat(\"/usr/lib/x86_64/x86_64\", 0x7ffd8d16be10) = -1 ENOENT (No such file or directory)\nopenat(AT_FDCWD, \"/usr/lib/x86_64/libnss_db.so.2\", O_RDONLY|O_CLOEXEC) = -1 ENOENT (No such file or directory)\nstat(\"/usr/lib/x86_64\", 0x7ffd8d16be10) = -1 ENOENT (No such file or directory)\nopenat(AT_FDCWD, \"/usr/lib/x86_64/libnss_db.so.2\", O_RDONLY|O_CLOEXEC) = -1 ENOENT (No such file or directory)\nstat(\"/usr/lib/x86_64\", 0x7ffd8d16be10) = -1 ENOENT (No such file or directory)\nopenat(AT_FDCWD, \"/usr/lib/libnss_db.so.2\", O_RDONLY|O_CLOEXEC) = -1 ENOENT (No such file or directory)\nstat(\"/usr/lib\", {st_mode=S_IFDIR|0755, st_size=4096, ...}) = 0\nopenat(AT_FDCWD, \"/etc/ld.so.cache\", O_RDONLY|O_CLOEXEC) = 3\naccess(\"/etc/ld.so.nohwcap\", F_OK)      = -1 ENOENT (No such file or directory)\nopenat(AT_FDCWD, \"/lib/x86_64-linux-gnu/libnss_files.so.2\", O_RDONLY|O_CLOEXEC) = 3\nopenat(AT_FDCWD, \"/etc/services\", O_RDONLY|O_CLOEXEC) = 3\nnc: connect to 127.0.0.1 port 801 (tcp) failed: Connection refused\n+++ exited with 1 +++\n"
    }
   ],
   "source": [
    "!strace -e trace=file nc -v -n 127.0.0.1 801"
   ]
  },
  {
   "cell_type": "code",
   "execution_count": null,
   "metadata": {
    "tags": []
   },
   "outputs": [],
   "source": [
    "!strace -e trace=open,close,read,write nc -v -n 127.0.0.1 801"
   ]
  },
  {
   "cell_type": "code",
   "execution_count": null,
   "metadata": {
    "tags": []
   },
   "outputs": [],
   "source": [
    "!strace -e trace=all nc -v -n 127.0.0.1 801"
   ]
  },
  {
   "cell_type": "code",
   "execution_count": null,
   "metadata": {},
   "outputs": [],
   "source": []
  },
  {
   "cell_type": "markdown",
   "metadata": {},
   "source": [
    "## References\n",
    "- https://www.tecmint.com/strace-commands-for-troubleshooting-and-debugging-linux/\n",
    "- https://www.geeksforgeeks.org/strace-command-in-linux-with-examples/\n",
    "- https://blog.packagecloud.io/eng/2015/11/15/strace-cheat-sheet/\n",
    "- https://events.static.linuxfound.org/sites/events/files/slides/lce-2014-strace-linux-en_0.pdf\n",
    "- https://jvns.ca/blog/2014/02/17/spying-on-ssh-with-strace/\n",
    "- https://jvns.ca/strace-zine-v3.pdf\n",
    "- https://ashato.co/2019/06/26/using-strace-to-monitor-a-terminal-in-real-time/\n",
    "- https://www.howtoforge.com/linux-strace-command/ \n",
    "- https://hackaday.com/2020/04/07/linux-fu-tracing-system-calls/#more-405645 \n",
    "- https://www.usenix.org/legacy/publications/library/proceedings/sec05/tech/full_papers/linn/linn_html/paper.html \n",
    "- https://news.ycombinator.com/item?id=16353054 \n",
    "- https://www.researchgate.net/publication/275650273_Assessing_vulnerability_exploitability_risk_using_software_properties \n",
    "- https://man7.org/linux/man-pages/man1/strace.1.html (<b>must read for detailed documentation of `-e` with trace, inject, fault, etc </b>)\n",
    "- https://salvatoresecurity.com/exploiting-race-conditions-with-strace/\n",
    "- https://www.real0day.com/hacking-tutorials/2017/11/6/injecting-a-running-process-linux\n"
   ]
  }
 ]
}