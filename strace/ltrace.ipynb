{
 "metadata": {
  "language_info": {
   "codemirror_mode": {
    "name": "ipython",
    "version": 3
   },
   "file_extension": ".py",
   "mimetype": "text/x-python",
   "name": "python",
   "nbconvert_exporter": "python",
   "pygments_lexer": "ipython3",
   "version": "3.6.9-final"
  },
  "orig_nbformat": 2,
  "kernelspec": {
   "name": "python3",
   "display_name": "Python 3"
  }
 },
 "nbformat": 4,
 "nbformat_minor": 2,
 "cells": [
  {
   "cell_type": "markdown",
   "metadata": {},
   "source": [
    "### Compile the program `add_two_inst.c`:"
   ]
  },
  {
   "cell_type": "code",
   "execution_count": null,
   "metadata": {
    "tags": []
   },
   "outputs": [],
   "source": [
    "!gcc add_two_ints.c -o a.out\n",
    "!ls"
   ]
  },
  {
   "cell_type": "code",
   "execution_count": 3,
   "metadata": {
    "tags": []
   },
   "outputs": [
    {
     "output_type": "stream",
     "name": "stdout",
     "text": "SYS_brk(0)                                       = 0x558409581000\nSYS_access(\"/etc/ld.so.nohwcap\", 00)             = -2\nSYS_access(\"/etc/ld.so.preload\", 04)             = -2\nSYS_openat(0xffffff9c, 0x7fbbc3040468, 0x80000, 0) = 3\nSYS_fstat(3, 0x7ffda6df0df0)                     = 0\nSYS_mmap(0, 0x14bee, 1, 2)                       = 0x7fbbc3231000\nSYS_close(3)                                     = 0\nSYS_access(\"/etc/ld.so.nohwcap\", 00)             = -2\nSYS_openat(0xffffff9c, 0x7fbbc3248dd0, 0x80000, 0) = 3\nSYS_read(3, \"\\177ELF\\002\\001\\001\\003\", 832)      = 832\nSYS_fstat(3, 0x7ffda6df0e50)                     = 0\nSYS_mmap(0, 8192, 3, 34)                         = 0x7fbbc322f000\nSYS_mmap(0, 0x3f0ae0, 5, 2050)                   = 0x7fbbc2c2e000\nSYS_mprotect(0x7fbbc2e15000, 2097152, 0)         = 0\nSYS_mmap(0x7fbbc3015000, 0x6000, 3, 2066)        = 0x7fbbc3015000\nSYS_mmap(0x7fbbc301b000, 0x3ae0, 3, 50)          = 0x7fbbc301b000\nSYS_close(3)                                     = 0\nSYS_arch_prctl(4098, 0x7fbbc32304c0, 0x7fbbc3230e00, 0x7fbbc322f988) = 0\nSYS_mprotect(0x7fbbc3015000, 16384, 1)           = 0\nSYS_mprotect(0x558408ec7000, 4096, 1)            = 0\nSYS_mprotect(0x7fbbc3246000, 4096, 1)            = 0\nSYS_munmap(0x7fbbc3231000, 84974)                = 0\nprintf(\"Sum of numbers less than 10: %d\", 45 <unfinished ...>\nSYS_fstat(1, 0x7ffda6df1010)                     = 0\nSYS_brk(0)                                       = 0x558409581000\nSYS_brk(0x5584095a2000)                          = 0x5584095a2000\n<... printf resumed> )                           = 31\nSYS_write(1, \"Sum of numbers less than 10: 45\", 31Sum of numbers less than 10: 45) = 31\nSYS_exit_group(0 <no return ...>\n+++ exited (status 0) +++\nexecve(\"./a.out\", [\"./a.out\"], 0x7fffb6b38cd0 /* 95 vars */) = 0\nbrk(NULL)                               = 0x55b386d5e000\naccess(\"/etc/ld.so.nohwcap\", F_OK)      = -1 ENOENT (No such file or directory)\naccess(\"/etc/ld.so.preload\", R_OK)      = -1 ENOENT (No such file or directory)\nopenat(AT_FDCWD, \"/etc/ld.so.cache\", O_RDONLY|O_CLOEXEC) = 3\nfstat(3, {st_mode=S_IFREG|0644, st_size=84974, ...}) = 0\nmmap(NULL, 84974, PROT_READ, MAP_PRIVATE, 3, 0) = 0x7feb89677000\nclose(3)                                = 0\naccess(\"/etc/ld.so.nohwcap\", F_OK)      = -1 ENOENT (No such file or directory)\nopenat(AT_FDCWD, \"/lib/x86_64-linux-gnu/libc.so.6\", O_RDONLY|O_CLOEXEC) = 3\nread(3, \"\\177ELF\\2\\1\\1\\3\\0\\0\\0\\0\\0\\0\\0\\0\\3\\0>\\0\\1\\0\\0\\0\\260\\34\\2\\0\\0\\0\\0\\0\"..., 832) = 832\nfstat(3, {st_mode=S_IFREG|0755, st_size=2030544, ...}) = 0\nmmap(NULL, 8192, PROT_READ|PROT_WRITE, MAP_PRIVATE|MAP_ANONYMOUS, -1, 0) = 0x7feb89675000\nmmap(NULL, 4131552, PROT_READ|PROT_EXEC, MAP_PRIVATE|MAP_DENYWRITE, 3, 0) = 0x7feb89074000\nmprotect(0x7feb8925b000, 2097152, PROT_NONE) = 0\nmmap(0x7feb8945b000, 24576, PROT_READ|PROT_WRITE, MAP_PRIVATE|MAP_FIXED|MAP_DENYWRITE, 3, 0x1e7000) = 0x7feb8945b000\nmmap(0x7feb89461000, 15072, PROT_READ|PROT_WRITE, MAP_PRIVATE|MAP_FIXED|MAP_ANONYMOUS, -1, 0) = 0x7feb89461000\nclose(3)                                = 0\narch_prctl(ARCH_SET_FS, 0x7feb896764c0) = 0\nmprotect(0x7feb8945b000, 16384, PROT_READ) = 0\nmprotect(0x55b3855ca000, 4096, PROT_READ) = 0\nmprotect(0x7feb8968c000, 4096, PROT_READ) = 0\nmunmap(0x7feb89677000, 84974)           = 0\nfstat(1, {st_mode=S_IFCHR|0620, st_rdev=makedev(136, 0), ...}) = 0\nbrk(NULL)                               = 0x55b386d5e000\nbrk(0x55b386d7f000)                     = 0x55b386d7f000\nwrite(1, \"Sum of numbers less than 10: 45\", 31Sum of numbers less than 10: 45) = 31\nexit_group(0)                           = ?\n+++ exited with 0 +++\n"
    }
   ],
   "source": [
    "!ltrace -S ./a.out\n",
    "!strace ./a.out"
   ]
  },
  {
   "cell_type": "code",
   "execution_count": 5,
   "metadata": {
    "tags": []
   },
   "outputs": [
    {
     "output_type": "stream",
     "name": "stdout",
     "text": "printf(\"Sum of numbers less than 10: %d\", 45)    = 31\nSum of numbers less than 10: 45+++ exited (status 0) +++\n"
    }
   ],
   "source": [
    "!ltrace ./a.out"
   ]
  },
  {
   "cell_type": "code",
   "execution_count": null,
   "metadata": {},
   "outputs": [],
   "source": []
  }
 ]
}